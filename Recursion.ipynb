{
 "cells": [
  {
   "cell_type": "code",
   "execution_count": 1,
   "metadata": {},
   "outputs": [],
   "source": [
    "def calculateFactorial(num):\n",
    "    \n",
    "    if num == 0:\n",
    "        return 1\n",
    "    else:\n",
    "        return num * calculateFactorial(num - 1)"
   ]
  },
  {
   "cell_type": "code",
   "execution_count": 2,
   "metadata": {},
   "outputs": [
    {
     "data": {
      "text/plain": [
       "120"
      ]
     },
     "execution_count": 2,
     "metadata": {},
     "output_type": "execute_result"
    }
   ],
   "source": [
    "calculateFactorial(5)"
   ]
  },
  {
   "cell_type": "code",
   "execution_count": 3,
   "metadata": {},
   "outputs": [
    {
     "data": {
      "text/plain": [
       "720"
      ]
     },
     "execution_count": 3,
     "metadata": {},
     "output_type": "execute_result"
    }
   ],
   "source": [
    "calculateFactorial(6)"
   ]
  },
  {
   "cell_type": "code",
   "execution_count": 4,
   "metadata": {},
   "outputs": [],
   "source": [
    "def calculateContigousSum(num):\n",
    "    \n",
    "    if num == 0:\n",
    "        return 0\n",
    "    else:\n",
    "        return num + calculateContigousSum(num - 1)"
   ]
  },
  {
   "cell_type": "code",
   "execution_count": 5,
   "metadata": {},
   "outputs": [
    {
     "data": {
      "text/plain": [
       "6"
      ]
     },
     "execution_count": 5,
     "metadata": {},
     "output_type": "execute_result"
    }
   ],
   "source": [
    "calculateContigousSum(3)"
   ]
  },
  {
   "cell_type": "code",
   "execution_count": 6,
   "metadata": {},
   "outputs": [
    {
     "data": {
      "text/plain": [
       "10"
      ]
     },
     "execution_count": 6,
     "metadata": {},
     "output_type": "execute_result"
    }
   ],
   "source": [
    "calculateContigousSum(4)"
   ]
  },
  {
   "cell_type": "code",
   "execution_count": 7,
   "metadata": {},
   "outputs": [
    {
     "data": {
      "text/plain": [
       "21"
      ]
     },
     "execution_count": 7,
     "metadata": {},
     "output_type": "execute_result"
    }
   ],
   "source": [
    "calculateContigousSum(6)"
   ]
  },
  {
   "cell_type": "code",
   "execution_count": 8,
   "metadata": {},
   "outputs": [],
   "source": [
    "myList = [5,10,15,5,20,15,5,10,5,100,10,20,15,100,5,10]"
   ]
  },
  {
   "cell_type": "code",
   "execution_count": 9,
   "metadata": {},
   "outputs": [],
   "source": [
    "def fibIterative(n: int) -> int:\n",
    "    x,y = 0,1\n",
    "    for i in range(n):\n",
    "        x,y = y,x+y\n",
    "    return x"
   ]
  },
  {
   "cell_type": "code",
   "execution_count": 10,
   "metadata": {},
   "outputs": [
    {
     "name": "stdout",
     "output_type": "stream",
     "text": [
      "22.8 µs ± 2.19 µs per loop (mean ± std. dev. of 1000 runs, 1000 loops each)\n"
     ]
    }
   ],
   "source": [
    "%%timeit -r 1000 -n 1000\n",
    "for num in myList:\n",
    "    fibIterative(num)"
   ]
  },
  {
   "cell_type": "code",
   "execution_count": 11,
   "metadata": {},
   "outputs": [
    {
     "name": "stdout",
     "output_type": "stream",
     "text": [
      "11.7 µs ± 1.09 µs per loop (mean ± std. dev. of 1000 runs, 1000 loops each)\n"
     ]
    }
   ],
   "source": [
    "%%timeit -r 1000 -n 1000\n",
    "\n",
    "def fib(n: int) -> int:\n",
    "    x,y = 0,1\n",
    "    for i in range(n):\n",
    "        x,y = y,x+y\n",
    "    return x  \n",
    "    \n",
    "memo = {}\n",
    "\n",
    "def memoizationSolution(n):\n",
    "    if n not in memo:\n",
    "        memo[n] = fib(n)\n",
    "    return memo[n]\n",
    "\n",
    "myList = [5,10,15,5,20,15,5,10,5,100,10,20,15,100,5,10]\n",
    "\n",
    "for num in myList:\n",
    "    memoizationSolution(num)"
   ]
  },
  {
   "cell_type": "code",
   "execution_count": null,
   "metadata": {},
   "outputs": [],
   "source": []
  }
 ],
 "metadata": {
  "kernelspec": {
   "display_name": "Python 3",
   "language": "python",
   "name": "python3"
  },
  "language_info": {
   "codemirror_mode": {
    "name": "ipython",
    "version": 3
   },
   "file_extension": ".py",
   "mimetype": "text/x-python",
   "name": "python",
   "nbconvert_exporter": "python",
   "pygments_lexer": "ipython3",
   "version": "3.7.4"
  }
 },
 "nbformat": 4,
 "nbformat_minor": 2
}
